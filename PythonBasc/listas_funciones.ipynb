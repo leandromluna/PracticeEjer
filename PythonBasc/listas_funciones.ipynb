{
  "cells": [
    {
      "cell_type": "markdown",
      "metadata": {
        "id": "EyvB9FHY06q3"
      },
      "source": [
        "<a href=\"https://colab.research.google.com/github/institutohumai/cursos-python/blob/master/Introduccion/2_Listas_Y_Funciones/listas-funciones.ipynb\"> <img src='https://colab.research.google.com/assets/colab-badge.svg' /> </a>\n",
        "<div align=\"center\"> Recordá abrir en una nueva pestaña </div>\n",
        "\n",
        "\n",
        "## Listas, Funciones, Errores\n"
      ]
    },
    {
      "cell_type": "markdown",
      "metadata": {
        "id": "VvZ5ewFI06q4"
      },
      "source": [
        "- [Control de flujo](#Control-de-flujo)\n",
        "- [Tuplas](#Tuplas)\n",
        "- [Errores](#Errores)\n",
        "- [List Comprehension](#List-Comprehension)\n",
        "- [Funciones](#Funciones)"
      ]
    },
    {
      "cell_type": "markdown",
      "metadata": {
        "id": "LsaITzky06q4"
      },
      "source": [
        "### Pequeño Repaso"
      ]
    },
    {
      "cell_type": "code",
      "execution_count": null,
      "metadata": {
        "id": "ihLtW2nW06q5",
        "outputId": "ab832f77-4ad8-4f15-ba42-a4e305c88f87"
      },
      "outputs": [
        {
          "name": "stdout",
          "output_type": "stream",
          "text": [
            "El número 2 es par\n",
            "El número 4 es par\n",
            "El número 6 es par\n",
            "El número 8 es par\n"
          ]
        }
      ],
      "source": [
        "for i in range(1, 10):\n",
        "    if i % 2 == 0:\n",
        "        print(f\"El número {i} es par\")"
      ]
    },
    {
      "cell_type": "markdown",
      "metadata": {
        "id": "yd15XnmB06q5"
      },
      "source": [
        "## Control de flujo\n",
        "\n",
        "Contamos con 3 _keywords_ que modifican el orden de ejecución **dentro de un bucle**\n",
        "\n",
        "- **continue**: interrumpe el flujo del bucle y retoma la ejecución en la siguiente iteración\n",
        "- **break**: termina el bucle\n",
        "- **pass**: no tiene efecto, se usa para evitar error cuando lo exige la sintáxis\n"
      ]
    },
    {
      "cell_type": "markdown",
      "metadata": {
        "id": "tKr92kvt06q6"
      },
      "source": [
        "Vamos a simular una base de datos de usuarios empleando un diccionario. Este diccionario tiene como llave un id representando por un entero. Como valor tiene un diccionario con nombre, apellido y dni."
      ]
    },
    {
      "cell_type": "code",
      "execution_count": null,
      "metadata": {
        "id": "VbfhBznE06q6"
      },
      "outputs": [],
      "source": [
        "base = {\n",
        "    1: {\"nombre\":\"Fernanda\",\n",
        "        \"apellido\":\"Fernandez\",\n",
        "        \"dni\":333333331},\n",
        "    2: {\"nombre\":\"Gonzalo\",\n",
        "        \"apellido\":\"Gonzalez\",\n",
        "        \"dni\":333333332},\n",
        "    3: {\"nombre\":\"Rodrigo\",\n",
        "        \"apellido\":\"Rodriguez\",\n",
        "        \"dni\":333333333}\n",
        "    }"
      ]
    },
    {
      "cell_type": "markdown",
      "metadata": {
        "id": "-oiyLNzH06q6"
      },
      "source": [
        "Supongamos que en una página web tenemos un formulario en el cual las personas que acceden completan con su dni y queremos saber el nombre y apellido si contamos con el mismo en la base, y si no lo tenemos sólo queremos saber cuál es el dni."
      ]
    },
    {
      "cell_type": "code",
      "execution_count": null,
      "metadata": {
        "id": "WJ3ggWpm06q6"
      },
      "outputs": [],
      "source": [
        "dnis = [333333331, 333333336, 333333339, 333333332, None, 333333333]"
      ]
    },
    {
      "cell_type": "code",
      "execution_count": null,
      "metadata": {
        "id": "aVDmMK-b06q6",
        "outputId": "5ac032ee-01ac-4935-a894-33fb81336510"
      },
      "outputs": [
        {
          "name": "stdout",
          "output_type": "stream",
          "text": [
            "Fernanda Fernandez ingreso a nuestra web\n",
            "Hasta el momento se encontraron 1 casos\n",
            "El dni 333333336 no se encuentra en la base...\n",
            "El dni 333333339 no se encuentra en la base...\n",
            "Gonzalo Gonzalez ingreso a nuestra web\n",
            "Hasta el momento se encontraron 2 casos\n",
            "Rodrigo Rodriguez ingreso a nuestra web\n",
            "Hasta el momento se encontraron 3 casos\n"
          ]
        }
      ],
      "source": [
        "n_encontrados = 0\n",
        "\n",
        "for dni in dnis: # itero por todos los dnis\n",
        "\n",
        "    if type(dni) == int: # si el tipo es entero\n",
        "        dni_encontrado = False # inicializo una variable con valor False, ya van a ver para qué :-)\n",
        "\n",
        "        # Ahora viene la parte complicada, ¿cómo sé si ese dni ya está en mi base?\n",
        "        # 1- Recordemos que base es un diccionario y como tal tiene el método items(), pruébenlo afuera de esta celda\n",
        "        # me devuelve una tupla, con la llave en el primer elemento y el valor en el segundo\n",
        "\n",
        "        # itero por todos los elementos\n",
        "        for i in base.items():\n",
        "            valor = i[1] # guardo el valor en una variable\n",
        "            if dni == valor[\"dni\"]: # si el dni es el mismo que estoy buscando...\n",
        "                dni_encontrado = True\n",
        "                nombre_completo = valor[\"nombre\"] + \" \" + valor[\"apellido\"]\n",
        "                n_encontrados += 1 # esto equivale a encontrados = encontrados + 1, agrega uno\n",
        "                break # freno la búsqueda, ésto evita que siga buscando\n",
        "\n",
        "        if dni_encontrado: # entra acá si es True\n",
        "            print(f\"{nombre_completo.title()} ingreso a nuestra web\")\n",
        "\n",
        "        elif not dni_encontrado: # noten el not\n",
        "            print(f'El dni {dni} no se encuentra en la base...')\n",
        "            continue # sigo con la búsqueda, NO paso a la siguiente línea\n",
        "\n",
        "        print(f\"Hasta el momento se encontraron {n_encontrados} casos\")\n",
        "\n",
        "    else:\n",
        "        pass # si dni no es un entero entonces no hacemos nada, suponemos que hubo algún tipo de error"
      ]
    },
    {
      "cell_type": "markdown",
      "metadata": {
        "id": "twISV3ym06q7"
      },
      "source": [
        "## Tuplas"
      ]
    },
    {
      "cell_type": "markdown",
      "metadata": {
        "id": "yoxw6iam06q7"
      },
      "source": [
        "Una **tupla** es una secuencia **inmutable** de longitud fija. Las tuplas generalmente se utilizan para representar secuencias de elementos que tienen longitud fija."
      ]
    },
    {
      "cell_type": "code",
      "execution_count": null,
      "metadata": {
        "id": "xCF9Bxfs06q7"
      },
      "outputs": [],
      "source": [
        "registro = ('Argentina', 112000, 'Bariloche')"
      ]
    },
    {
      "cell_type": "markdown",
      "metadata": {
        "id": "jOgSRBuR06q7"
      },
      "source": [
        "Podemos acceder a un elemento por un índice como con una lista"
      ]
    },
    {
      "cell_type": "code",
      "execution_count": null,
      "metadata": {
        "colab": {
          "base_uri": "https://localhost:8080/",
          "height": 34
        },
        "id": "ckk0oAhZGgJY",
        "outputId": "fe1c10d5-4084-4ff0-b7f8-28211fda61de"
      },
      "outputs": [
        {
          "data": {
            "text/plain": [
              "'Argentina'"
            ]
          },
          "execution_count": 6,
          "metadata": {},
          "output_type": "execute_result"
        }
      ],
      "source": [
        "registro[0]"
      ]
    },
    {
      "cell_type": "markdown",
      "metadata": {
        "id": "N_n5tvMG06q7"
      },
      "source": [
        "#### Unpacking\n",
        "\n",
        "Con una tupla, o una lista podemos separar una secuencia en variables de la siguiente manera"
      ]
    },
    {
      "cell_type": "code",
      "execution_count": null,
      "metadata": {
        "id": "FR2vyl3906q7",
        "outputId": "8ebbb954-d50f-4d45-c158-ec2ca8b8371e"
      },
      "outputs": [
        {
          "name": "stdout",
          "output_type": "stream",
          "text": [
            "País: Argentina\n",
            "Población: 112000\n",
            "Ciudad: Bariloche\n"
          ]
        }
      ],
      "source": [
        "pais, poblacion, ciudad = registro\n",
        "\n",
        "print(\"País:\", pais)\n",
        "print(\"Población:\", poblacion)\n",
        "print(\"Ciudad:\", ciudad)"
      ]
    },
    {
      "cell_type": "code",
      "execution_count": null,
      "metadata": {
        "id": "ck5lAsi-JUsX",
        "outputId": "3f038971-a712-41ed-a8bb-793989e31772"
      },
      "outputs": [
        {
          "data": {
            "text/plain": [
              "('Brasil', 477000, 'Florianópolis')"
            ]
          },
          "execution_count": 8,
          "metadata": {},
          "output_type": "execute_result"
        }
      ],
      "source": [
        "registros = [registro, ('Brasil', 477000, 'Florianópolis')]\n",
        "registros[1]"
      ]
    },
    {
      "cell_type": "markdown",
      "metadata": {
        "id": "RMhsoymy06q7"
      },
      "source": [
        "Pero como las tuplas son **inmutables** no se pueden modificar"
      ]
    },
    {
      "cell_type": "code",
      "execution_count": null,
      "metadata": {
        "id": "JNw3dTGz06q8",
        "outputId": "430ad6ba-4a19-4e2e-cc1b-721cc2279a0c"
      },
      "outputs": [
        {
          "data": {
            "text/plain": [
              "[4, 2, 3]"
            ]
          },
          "execution_count": 9,
          "metadata": {},
          "output_type": "execute_result"
        }
      ],
      "source": [
        "# Una lista sí se puede modificar\n",
        "lista = [1, 2, 3]\n",
        "\n",
        "lista[0] = 4\n",
        "\n",
        "lista"
      ]
    },
    {
      "cell_type": "markdown",
      "metadata": {
        "id": "zXNXKmKB06q8"
      },
      "source": [
        "En cambio una tupla no se puede modificar o, como dice el cartel de error, no permite asignación:"
      ]
    },
    {
      "cell_type": "code",
      "execution_count": null,
      "metadata": {
        "colab": {
          "base_uri": "https://localhost:8080/",
          "height": 184
        },
        "id": "jfOf0WAymLDQ",
        "outputId": "0613d744-ecf9-48d8-f891-673c31ea5eca"
      },
      "outputs": [
        {
          "name": "stdout",
          "output_type": "stream",
          "text": [
            "('Argentina', 112000, 'Bariloche')\n"
          ]
        },
        {
          "ename": "TypeError",
          "evalue": "'tuple' object does not support item assignment",
          "output_type": "error",
          "traceback": [
            "\u001b[0;31m---------------------------------------------------------------------------\u001b[0m",
            "\u001b[0;31mTypeError\u001b[0m                                 Traceback (most recent call last)",
            "\u001b[0;32m<ipython-input-10-943f179ec8dc>\u001b[0m in \u001b[0;36m<module>\u001b[0;34m\u001b[0m\n\u001b[1;32m      1\u001b[0m \u001b[0mprint\u001b[0m\u001b[0;34m(\u001b[0m\u001b[0mregistro\u001b[0m\u001b[0;34m)\u001b[0m\u001b[0;34m\u001b[0m\u001b[0;34m\u001b[0m\u001b[0m\n\u001b[0;32m----> 2\u001b[0;31m \u001b[0mregistro\u001b[0m\u001b[0;34m[\u001b[0m\u001b[0;36m0\u001b[0m\u001b[0;34m]\u001b[0m \u001b[0;34m=\u001b[0m \u001b[0;34m'Chile'\u001b[0m\u001b[0;34m\u001b[0m\u001b[0;34m\u001b[0m\u001b[0m\n\u001b[0m",
            "\u001b[0;31mTypeError\u001b[0m: 'tuple' object does not support item assignment"
          ]
        }
      ],
      "source": [
        "print(registro)\n",
        "registro[0] = 'Chile'"
      ]
    },
    {
      "cell_type": "code",
      "execution_count": null,
      "metadata": {
        "id": "uh3bHrsd06q8",
        "outputId": "8a0f32db-dccc-4760-ce17-0455bc7da0d3"
      },
      "outputs": [
        {
          "ename": "TypeError",
          "evalue": "'tuple' object doesn't support item deletion",
          "output_type": "error",
          "traceback": [
            "\u001b[0;31m---------------------------------------------------------------------------\u001b[0m",
            "\u001b[0;31mTypeError\u001b[0m                                 Traceback (most recent call last)",
            "\u001b[0;32m<ipython-input-11-de3b5b100261>\u001b[0m in \u001b[0;36m<module>\u001b[0;34m\u001b[0m\n\u001b[1;32m      1\u001b[0m \u001b[0;31m# tampoco se puede borrar ninguno de sus elementos\u001b[0m\u001b[0;34m\u001b[0m\u001b[0;34m\u001b[0m\u001b[0;34m\u001b[0m\u001b[0m\n\u001b[0;32m----> 2\u001b[0;31m \u001b[0;32mdel\u001b[0m \u001b[0mregistro\u001b[0m\u001b[0;34m[\u001b[0m\u001b[0;36m0\u001b[0m\u001b[0;34m]\u001b[0m\u001b[0;34m\u001b[0m\u001b[0;34m\u001b[0m\u001b[0m\n\u001b[0m",
            "\u001b[0;31mTypeError\u001b[0m: 'tuple' object doesn't support item deletion"
          ]
        }
      ],
      "source": [
        "# tampoco se puede borrar ninguno de sus elementos\n",
        "del registro[0]"
      ]
    },
    {
      "cell_type": "markdown",
      "metadata": {
        "id": "JEC5bLgE06q8"
      },
      "source": [
        "## Tipos de errores\n",
        "\n",
        "En el ejemplo de arriba vimos una pantalla de error. El **traceback** o **stack trace** nos muestra el camino del error: veremos más adelante que cuando tenemos funciones anidadas, vemos aquí como el error se propaga.\n",
        "\n",
        "Las cosas a las que en principio les debemos prestar atención son:\n",
        "\n",
        "   1. El nombre del error, en este caso **TypeError**\n",
        "   2. La explicación dada en el último renglón: \"'tuple' object doesn't support item deletion\"\n",
        "   3. La flecha que nos indica la línea en la que ocurrió el error"
      ]
    },
    {
      "cell_type": "markdown",
      "metadata": {
        "id": "6JWTLK5t06q8"
      },
      "source": [
        "Existen distintos tipos de errores en Python, pueden consultar la lista de todas las excepciones básicas acá:\n",
        "https://docs.python.org/3/library/exceptions.html#bltin-exceptions\n",
        "\n",
        "Sin embargo, las excepciones más frecuentes son:\n",
        "\n",
        "**AttributeError**: cuando tratamos de llamar a una referencia que no existe.\n",
        "\n",
        "**NameError**: cuando se llama a una variable u otro nombre que no está definido en el ambiente en que estamos trabajando.\n",
        "\n",
        "**KeyError**: cuando queremos llamar a una llave que no existe, por ejemplo, en un diccionario.\n",
        "\n",
        "**SyntaxError**: cuando hay un problema de sintaxis, errores muy comunes al comienzo pueden ser que no se cerró una llave o corchete, que falta alguna coma o dos puntos.\n",
        "\n",
        "**TypeError**: cuando el tipo de soporta una determinada operación.\n",
        "\n",
        "**IndexError**: cuando el índice al que se quiere acceder no existe, generalmente debido a que se llama a un índice mayor al largo de la lista."
      ]
    },
    {
      "cell_type": "markdown",
      "metadata": {
        "id": "0-SGJKzA06q8"
      },
      "source": [
        "Veamos algunos ejemplos:"
      ]
    },
    {
      "cell_type": "code",
      "execution_count": null,
      "metadata": {
        "id": "KWh0_3w506q8",
        "outputId": "2a492640-8576-4a27-846e-6c3b1410ade8"
      },
      "outputs": [
        {
          "ename": "NameError",
          "evalue": "name 'no_definido' is not defined",
          "output_type": "error",
          "traceback": [
            "\u001b[0;31m---------------------------------------------------------------------------\u001b[0m",
            "\u001b[0;31mNameError\u001b[0m                                 Traceback (most recent call last)",
            "\u001b[0;32m<ipython-input-12-7eac29aaea1e>\u001b[0m in \u001b[0;36m<module>\u001b[0;34m\u001b[0m\n\u001b[0;32m----> 1\u001b[0;31m \u001b[0mprint\u001b[0m\u001b[0;34m(\u001b[0m\u001b[0mno_definido\u001b[0m\u001b[0;34m)\u001b[0m\u001b[0;34m\u001b[0m\u001b[0;34m\u001b[0m\u001b[0m\n\u001b[0m",
            "\u001b[0;31mNameError\u001b[0m: name 'no_definido' is not defined"
          ]
        }
      ],
      "source": [
        "print(no_definido)"
      ]
    },
    {
      "cell_type": "code",
      "execution_count": null,
      "metadata": {
        "id": "coPetdwk06q-",
        "outputId": "b7c0a243-8c4e-4e6d-8f5a-c7d9153b4ba9"
      },
      "outputs": [
        {
          "name": "stdout",
          "output_type": "stream",
          "text": [
            "{1: {'nombre': 'Fernanda', 'apellido': 'Fernandez', 'dni': 333333331}, 2: {'nombre': 'Gonzalo', 'apellido': 'Gonzalez', 'dni': 333333332}, 3: {'nombre': 'Rodrigo', 'apellido': 'Rodriguez', 'dni': 333333333}}\n"
          ]
        }
      ],
      "source": [
        "print(base) # recordamos base"
      ]
    },
    {
      "cell_type": "code",
      "execution_count": null,
      "metadata": {
        "id": "C1SCxbEa06q_",
        "outputId": "0d47c944-d40c-4b01-a43e-edc3834ee47c"
      },
      "outputs": [
        {
          "ename": "KeyError",
          "evalue": "'Gertrudis'",
          "output_type": "error",
          "traceback": [
            "\u001b[0;31m---------------------------------------------------------------------------\u001b[0m",
            "\u001b[0;31mKeyError\u001b[0m                                  Traceback (most recent call last)",
            "\u001b[0;32m<ipython-input-14-dfebdfd799e0>\u001b[0m in \u001b[0;36m<module>\u001b[0;34m\u001b[0m\n\u001b[0;32m----> 1\u001b[0;31m \u001b[0mbase\u001b[0m\u001b[0;34m[\u001b[0m\u001b[0;34m'Gertrudis'\u001b[0m\u001b[0;34m]\u001b[0m\u001b[0;34m\u001b[0m\u001b[0;34m\u001b[0m\u001b[0m\n\u001b[0m",
            "\u001b[0;31mKeyError\u001b[0m: 'Gertrudis'"
          ]
        }
      ],
      "source": [
        "base['Gertrudis']"
      ]
    },
    {
      "cell_type": "markdown",
      "metadata": {
        "id": "Yf9pb5sg06q_"
      },
      "source": [
        "### Ejercicios"
      ]
    },
    {
      "cell_type": "markdown",
      "metadata": {
        "id": "7eNTJgi706q_"
      },
      "source": [
        "Prueben y arreglen los siguientes errores de código:\n",
        "\n",
        "\n",
        "1. ¿Qué está pasando en este código?"
      ]
    },
    {
      "cell_type": "code",
      "execution_count": null,
      "metadata": {
        "id": "oc-ADJpb06q_",
        "outputId": "38e11ac6-08bd-48b5-afeb-a6012c70c3b6"
      },
      "outputs": [
        {
          "ename": "SyntaxError",
          "evalue": "invalid syntax (<ipython-input-15-c797e0e0635f>, line 1)",
          "output_type": "error",
          "traceback": [
            "\u001b[0;36m  File \u001b[0;32m\"<ipython-input-15-c797e0e0635f>\"\u001b[0;36m, line \u001b[0;32m1\u001b[0m\n\u001b[0;31m    if 10 > 5\u001b[0m\n\u001b[0m             ^\u001b[0m\n\u001b[0;31mSyntaxError\u001b[0m\u001b[0;31m:\u001b[0m invalid syntax\n"
          ]
        }
      ],
      "source": [
        "if 10 > 5\n",
        "    print('Qué está pasando?')"
      ]
    },
    {
      "cell_type": "markdown",
      "metadata": {
        "id": "X2bolrFi06q_"
      },
      "source": [
        "2. ¿Y en este? Traten de arreglarlo"
      ]
    },
    {
      "cell_type": "code",
      "execution_count": null,
      "metadata": {
        "id": "RFzi3hZq06q_",
        "outputId": "05ad720e-2103-49a6-8adf-c4c118716b01"
      },
      "outputs": [
        {
          "ename": "TypeError",
          "evalue": "unsupported operand type(s) for +: 'int' and 'str'",
          "output_type": "error",
          "traceback": [
            "\u001b[0;31m---------------------------------------------------------------------------\u001b[0m",
            "\u001b[0;31mTypeError\u001b[0m                                 Traceback (most recent call last)",
            "\u001b[0;32m<ipython-input-16-715f0e881b0b>\u001b[0m in \u001b[0;36m<module>\u001b[0;34m\u001b[0m\n\u001b[1;32m      1\u001b[0m \u001b[0ma\u001b[0m \u001b[0;34m=\u001b[0m \u001b[0;36m5\u001b[0m\u001b[0;34m\u001b[0m\u001b[0;34m\u001b[0m\u001b[0m\n\u001b[1;32m      2\u001b[0m \u001b[0mb\u001b[0m \u001b[0;34m=\u001b[0m \u001b[0;34m\"3\"\u001b[0m\u001b[0;34m\u001b[0m\u001b[0;34m\u001b[0m\u001b[0m\n\u001b[0;32m----> 3\u001b[0;31m \u001b[0ma\u001b[0m \u001b[0;34m+\u001b[0m \u001b[0mb\u001b[0m \u001b[0;34m==\u001b[0m \u001b[0;36m8\u001b[0m\u001b[0;34m\u001b[0m\u001b[0;34m\u001b[0m\u001b[0m\n\u001b[0m",
            "\u001b[0;31mTypeError\u001b[0m: unsupported operand type(s) for +: 'int' and 'str'"
          ]
        }
      ],
      "source": [
        "a = 5\n",
        "b = \"3\"\n",
        "a + b == 8"
      ]
    },
    {
      "cell_type": "markdown",
      "metadata": {
        "id": "EWebciAg06q_"
      },
      "source": [
        "3. ¿Y continuación?"
      ]
    },
    {
      "cell_type": "code",
      "execution_count": null,
      "metadata": {
        "id": "DqdP0jQo06q_",
        "outputId": "e461c9cb-5064-400a-ae5e-a18e14373231"
      },
      "outputs": [
        {
          "ename": "IndexError",
          "evalue": "list index out of range",
          "output_type": "error",
          "traceback": [
            "\u001b[0;31m---------------------------------------------------------------------------\u001b[0m",
            "\u001b[0;31mIndexError\u001b[0m                                Traceback (most recent call last)",
            "\u001b[0;32m<ipython-input-17-5956792cce49>\u001b[0m in \u001b[0;36m<module>\u001b[0;34m\u001b[0m\n\u001b[1;32m      1\u001b[0m \u001b[0ma\u001b[0m \u001b[0;34m=\u001b[0m \u001b[0;34m[\u001b[0m\u001b[0;34m\"the beatles\"\u001b[0m\u001b[0;34m,\u001b[0m \u001b[0;34m\"the rolling stones\"\u001b[0m\u001b[0;34m,\u001b[0m \u001b[0;34m\"queen\"\u001b[0m\u001b[0;34m,\u001b[0m \u001b[0;34m\"led zepellin\"\u001b[0m\u001b[0;34m]\u001b[0m\u001b[0;34m\u001b[0m\u001b[0;34m\u001b[0m\u001b[0m\n\u001b[1;32m      2\u001b[0m \u001b[0;34m\u001b[0m\u001b[0m\n\u001b[0;32m----> 3\u001b[0;31m \u001b[0ma\u001b[0m\u001b[0;34m[\u001b[0m\u001b[0;36m4\u001b[0m\u001b[0;34m]\u001b[0m\u001b[0;34m\u001b[0m\u001b[0;34m\u001b[0m\u001b[0m\n\u001b[0m",
            "\u001b[0;31mIndexError\u001b[0m: list index out of range"
          ]
        }
      ],
      "source": [
        "a = [\"the beatles\", \"the rolling stones\", \"queen\", \"led zepellin\"]\n",
        "\n",
        "a[4]"
      ]
    },
    {
      "cell_type": "markdown",
      "metadata": {
        "id": "izYzJujN06q_"
      },
      "source": [
        "4- ¿Y acá? ¿qué pasó?"
      ]
    },
    {
      "cell_type": "code",
      "execution_count": null,
      "metadata": {
        "id": "mp5Z-oh106q_",
        "outputId": "d50c9332-be7e-4427-fa3d-487c5f52375c"
      },
      "outputs": [
        {
          "ename": "AttributeError",
          "evalue": "'list' object has no attribute 'appended'",
          "output_type": "error",
          "traceback": [
            "\u001b[0;31m---------------------------------------------------------------------------\u001b[0m",
            "\u001b[0;31mAttributeError\u001b[0m                            Traceback (most recent call last)",
            "\u001b[0;32m<ipython-input-18-fb0e2f01d423>\u001b[0m in \u001b[0;36m<module>\u001b[0;34m\u001b[0m\n\u001b[0;32m----> 1\u001b[0;31m \u001b[0ma\u001b[0m\u001b[0;34m.\u001b[0m\u001b[0mappended\u001b[0m\u001b[0;34m(\u001b[0m\u001b[0;34m[\u001b[0m\u001b[0;34m\"cream\"\u001b[0m\u001b[0;34m]\u001b[0m\u001b[0;34m)\u001b[0m\u001b[0;34m\u001b[0m\u001b[0;34m\u001b[0m\u001b[0m\n\u001b[0m",
            "\u001b[0;31mAttributeError\u001b[0m: 'list' object has no attribute 'appended'"
          ]
        }
      ],
      "source": [
        "a.appended([\"cream\"])"
      ]
    },
    {
      "cell_type": "markdown",
      "metadata": {
        "id": "lXNP0_N306q_"
      },
      "source": [
        "## Manejo de errores"
      ]
    },
    {
      "cell_type": "markdown",
      "metadata": {
        "id": "5L6S5OBW06rC"
      },
      "source": [
        "Para anticipar y manejar los errores, podemos usar la clausula **try** y **except**"
      ]
    },
    {
      "cell_type": "code",
      "execution_count": null,
      "metadata": {
        "id": "n_cWiwN206rD",
        "outputId": "2ab51c44-288a-4acf-a109-5e6c1cc3bc8d"
      },
      "outputs": [
        {
          "name": "stdout",
          "output_type": "stream",
          "text": [
            "25\n"
          ]
        }
      ],
      "source": [
        "a = '20'\n",
        "b = 5\n",
        "\n",
        "try:\n",
        "    print(a+b)\n",
        "except:\n",
        "    print(int(a)+int(b)) # convierto a int ambas variables"
      ]
    },
    {
      "cell_type": "markdown",
      "metadata": {
        "id": "yxKf36Nc06rD"
      },
      "source": [
        "Si queremos ver qué excepción ocurrió, podemos usar la siguiente sintáxis:"
      ]
    },
    {
      "cell_type": "code",
      "execution_count": null,
      "metadata": {
        "id": "S_hHeuUf06rD",
        "outputId": "702f93df-0c71-4975-a11b-1a1302c82fb2"
      },
      "outputs": [
        {
          "name": "stdout",
          "output_type": "stream",
          "text": [
            "El error fue can only concatenate str (not \"int\") to str\n"
          ]
        }
      ],
      "source": [
        "try:\n",
        "    print(a+b)\n",
        "except Exception as e:\n",
        "    print(f\"El error fue {e}\")"
      ]
    },
    {
      "cell_type": "markdown",
      "metadata": {
        "id": "9qm7Fprj06rD"
      },
      "source": [
        "También podemos especificar qué hacer para distintos tipos de error:"
      ]
    },
    {
      "cell_type": "code",
      "execution_count": null,
      "metadata": {
        "id": "rg5_vP9J06rD",
        "outputId": "33a1dc37-70fd-4d95-d467-81e13e1cd622"
      },
      "outputs": [
        {
          "name": "stdout",
          "output_type": "stream",
          "text": [
            "la tupla es ('3', 8)\n",
            "intento dividir...\n",
            "Error en el tipo de datos\n",
            "la tupla es (5, 0)\n",
            "intento dividir...\n",
            "No se puede dividir por cero\n",
            "la tupla es (3,)\n",
            "intento dividir...\n",
            "El largo está mal\n",
            "la tupla es (4, 6)\n",
            "intento dividir...\n",
            "0.6666666666666666\n",
            "éxito!\n"
          ]
        }
      ],
      "source": [
        "lista_tuplas = [('3', 8),\n",
        "                (5, 0),\n",
        "                (3, ),\n",
        "                (4, 6)]\n",
        "\n",
        "for t in lista_tuplas:\n",
        "    print(f\"la tupla es {t}\")\n",
        "\n",
        "    try:\n",
        "        print(\"intento dividir...\")\n",
        "        print(t[0] / t[1])\n",
        "        print(\"éxito!\")\n",
        "    except IndexError:\n",
        "        print('El largo está mal')\n",
        "    except TypeError:\n",
        "        print('Error en el tipo de datos')\n",
        "    except ZeroDivisionError:\n",
        "        print(\"No se puede dividir por cero\")"
      ]
    },
    {
      "cell_type": "markdown",
      "metadata": {
        "id": "egkXcS0e06rD"
      },
      "source": [
        "# Listas por comprensión (List Comprehension)"
      ]
    },
    {
      "cell_type": "markdown",
      "metadata": {
        "id": "eJcqrQrY06rD"
      },
      "source": [
        "Las **listas por comprensión** son una funcionalidad muy flexible de Python que permite crear listas de un modo más \"descriptivo\", basandose en la notación de definición de conjuntos."
      ]
    },
    {
      "cell_type": "markdown",
      "metadata": {
        "id": "kzLViJPr06rD"
      },
      "source": [
        "Supongamos que necesitamos obtener una lista con los elementos de una lista original elevados al cuadrado.\n",
        "\n",
        "Sin listas por comprensión haríamos..."
      ]
    },
    {
      "cell_type": "code",
      "execution_count": null,
      "metadata": {
        "id": "rENucAwN06rD",
        "outputId": "bccc977f-a36c-4be9-f7b2-42e9ffa1ba66"
      },
      "outputs": [
        {
          "data": {
            "text/plain": [
              "[1, 4, 9, 16, 25]"
            ]
          },
          "execution_count": 22,
          "metadata": {},
          "output_type": "execute_result"
        }
      ],
      "source": [
        "lista = [1,2,3,4,5]\n",
        "\n",
        "cuadrados = []\n",
        "\n",
        "for x in lista:\n",
        "    cuadrados.append(x**2)\n",
        "\n",
        "cuadrados"
      ]
    },
    {
      "cell_type": "markdown",
      "metadata": {
        "id": "n4lB3Rd606rD"
      },
      "source": [
        "En cambio, con listas por comprensión usamos esta expresión:"
      ]
    },
    {
      "cell_type": "code",
      "execution_count": null,
      "metadata": {
        "id": "fAtNWwLb06rD"
      },
      "outputs": [],
      "source": [
        "cuadrados = [x**2 for x in lista]"
      ]
    },
    {
      "cell_type": "markdown",
      "metadata": {
        "id": "GqULCdFb06rD"
      },
      "source": [
        "En las listas por comprensión también podemos incluir condicionales en una sola línea, vean la siguiente expresión:"
      ]
    },
    {
      "cell_type": "code",
      "execution_count": null,
      "metadata": {
        "id": "4TGf__Vr06rD",
        "outputId": "23881dd1-4be7-4b9f-8e68-fa4e681160c3"
      },
      "outputs": [
        {
          "name": "stdout",
          "output_type": "stream",
          "text": [
            "0\n"
          ]
        }
      ],
      "source": [
        "x = 10\n",
        "print(x if x > 15 else 0)"
      ]
    },
    {
      "cell_type": "code",
      "execution_count": null,
      "metadata": {
        "id": "tiyxjw5W06rD",
        "outputId": "fe7fefee-bc8b-4fe0-d182-90596665e0ce"
      },
      "outputs": [
        {
          "name": "stdout",
          "output_type": "stream",
          "text": [
            "16\n"
          ]
        }
      ],
      "source": [
        "x = 16\n",
        "print(x if x > 15 else 0)"
      ]
    },
    {
      "cell_type": "markdown",
      "metadata": {
        "id": "Y5Kh3BPM06rD"
      },
      "source": [
        "Ahora vamos a generar una lista por comprensión sólo con los números donde el cuadrado sea menor a 15"
      ]
    },
    {
      "cell_type": "code",
      "execution_count": null,
      "metadata": {
        "id": "_cP5_BoV06rE",
        "outputId": "cfc0e176-5e0c-467b-cc26-eb63678e57cd"
      },
      "outputs": [
        {
          "data": {
            "text/plain": [
              "[1, 4, 9]"
            ]
          },
          "execution_count": 26,
          "metadata": {},
          "output_type": "execute_result"
        }
      ],
      "source": [
        "cuadrados = [x**2 for x in lista if x**2 < 15]\n",
        "cuadrados"
      ]
    },
    {
      "cell_type": "markdown",
      "metadata": {
        "id": "88UI62oZ06rE"
      },
      "source": [
        "La sintáxis para **filtrar** con condicionales es\n",
        "\n",
        "> [ (elemento) ( for x in (iterable) ) ( if condicion ) ]\n",
        "\n",
        "Donde \"elemento\" es lo que vayamos a guardar en la lista. Incluyendo un **else**:\n",
        "\n",
        "> [ (elemento) (if condicion else otro_elemento) ( for x in (iterable) ) ]\n",
        "\n",
        "Pueden hacerse loops anidados:\n",
        "\n",
        "> [i for i in range(x) for j in range(y)]"
      ]
    },
    {
      "cell_type": "markdown",
      "metadata": {
        "id": "0Tqe059j06rE"
      },
      "source": [
        "Otra forma de pensar la sintaxis es a partir de teoría de conjuntos. Por ejemplo:\n",
        "Un conjunto S definido por todos los números X / 4 que pertenecen a los Naturales y cumplen que su cuadrado es menor a 20\n",
        "\n",
        "$$S=\\{\\,\\frac{x}{4}\\mid x \\in \\mathbb{N},\\ x^2<60\\,\\}$$"
      ]
    },
    {
      "cell_type": "markdown",
      "metadata": {
        "id": "_ld0s4zO06rE"
      },
      "source": [
        "Con un loop for:"
      ]
    },
    {
      "cell_type": "code",
      "execution_count": null,
      "metadata": {
        "id": "2BPEeVzx06rE",
        "outputId": "10298ee2-772e-4e93-b8a6-34ba3e844519"
      },
      "outputs": [
        {
          "data": {
            "text/plain": [
              "[0.0, 0.25, 0.5, 0.75, 1.0, 1.25, 1.5, 1.75]"
            ]
          },
          "execution_count": 27,
          "metadata": {},
          "output_type": "execute_result"
        }
      ],
      "source": [
        "S = []\n",
        "\n",
        "for x in range(1000):\n",
        "    if x ** 2 < 60:\n",
        "        S.append(x/4)\n",
        "S"
      ]
    },
    {
      "cell_type": "markdown",
      "metadata": {
        "id": "6__qaXMz06rE"
      },
      "source": [
        "Con listas por comprensión:"
      ]
    },
    {
      "cell_type": "code",
      "execution_count": null,
      "metadata": {
        "id": "DAD-mQ9C06rE",
        "outputId": "0391d780-a1bb-44db-8f8f-bd258cd40ff5"
      },
      "outputs": [
        {
          "data": {
            "text/plain": [
              "[0.0, 0.25, 0.5, 0.75, 1.0, 1.25, 1.5, 1.75]"
            ]
          },
          "execution_count": 28,
          "metadata": {},
          "output_type": "execute_result"
        }
      ],
      "source": [
        "S = [x/4 for x in range(1000) if x**2 < 60]\n",
        "S"
      ]
    },
    {
      "cell_type": "code",
      "execution_count": null,
      "metadata": {
        "id": "ghpVWOxm06rE",
        "outputId": "5d27a4dd-8804-4ddf-9ee0-8f20ec2f3dd0"
      },
      "outputs": [
        {
          "name": "stdout",
          "output_type": "stream",
          "text": [
            "0 a\n",
            "0 b\n",
            "0 c\n",
            "1 a\n",
            "1 b\n",
            "1 c\n",
            "2 a\n",
            "2 b\n",
            "2 c\n"
          ]
        }
      ],
      "source": [
        "for x in range(3):\n",
        "    for y in 'abc':\n",
        "        print(x,y)"
      ]
    },
    {
      "cell_type": "code",
      "execution_count": null,
      "metadata": {
        "id": "H4A9Jybz06rE",
        "outputId": "29793eec-1cf9-4dfd-ee09-a237eac5d240"
      },
      "outputs": [
        {
          "data": {
            "text/plain": [
              "[(0, 'a'),\n",
              " (0, 'b'),\n",
              " (0, 'c'),\n",
              " (1, 'a'),\n",
              " (1, 'b'),\n",
              " (1, 'c'),\n",
              " (2, 'a'),\n",
              " (2, 'b'),\n",
              " (2, 'c')]"
            ]
          },
          "execution_count": 30,
          "metadata": {},
          "output_type": "execute_result"
        }
      ],
      "source": [
        "[(x, y) for x in range(3) for y in 'abc']"
      ]
    },
    {
      "cell_type": "markdown",
      "metadata": {
        "id": "f_WL9vk006rE"
      },
      "source": [
        "O comprensiones anidadas:\n",
        "\n",
        "> [ [i for i in range(x) ] for j in range(y) ]"
      ]
    },
    {
      "cell_type": "code",
      "execution_count": null,
      "metadata": {
        "id": "hTnM-KFf06rE",
        "outputId": "b4b002f5-0c97-44d5-a84c-61a01bcd8fc1"
      },
      "outputs": [
        {
          "data": {
            "text/plain": [
              "[['', '', ''], ['a', 'b', 'c'], ['aa', 'bb', 'cc']]"
            ]
          },
          "execution_count": 31,
          "metadata": {},
          "output_type": "execute_result"
        }
      ],
      "source": [
        "[[l*n for l in 'abc'] for n in range(3)]"
      ]
    },
    {
      "cell_type": "markdown",
      "metadata": {
        "id": "ZaFyYgbn06rE"
      },
      "source": [
        "Además, el elemento que se genera puede ser de otro tipo, en este caso una tupla:"
      ]
    },
    {
      "cell_type": "code",
      "execution_count": null,
      "metadata": {
        "id": "GCeliEME06rE",
        "outputId": "7c9cc5cc-1e1a-48f9-9685-04bfacc84e25"
      },
      "outputs": [
        {
          "data": {
            "text/plain": [
              "[('mantarraya', 10), ('pandas', 6), ('narval', 6), ('unicornio', 9)]"
            ]
          },
          "execution_count": 32,
          "metadata": {},
          "output_type": "execute_result"
        }
      ],
      "source": [
        "animales = ['mantarraya', 'pandas', 'narval', 'unicornio']\n",
        "\n",
        "[(a, len(a)) for a in animales]"
      ]
    },
    {
      "cell_type": "markdown",
      "metadata": {
        "id": "auAWt3vt06rE"
      },
      "source": [
        "### Ejercicios"
      ]
    },
    {
      "cell_type": "markdown",
      "metadata": {
        "id": "UTWCyPzt06rE"
      },
      "source": [
        "1- Dado el siguiente grupo de palabras, crear otra lista que contenga sólo la primera letra de cada una"
      ]
    },
    {
      "cell_type": "code",
      "execution_count": null,
      "metadata": {
        "id": "TnRuIJlI06rE"
      },
      "outputs": [],
      "source": [
        "lista = ['a','ante','bajo','cabe','con']"
      ]
    },
    {
      "cell_type": "markdown",
      "metadata": {
        "id": "7AQmuSRu06rE"
      },
      "source": [
        "2- Dada la siguiente frase, crear una lista con el largo de cada palabra.\n",
        "Tip: Antes de aplicar listas por comprensión pueden usar la función split que vimos la clase pasada y la función replace para remover la puntuación."
      ]
    },
    {
      "cell_type": "code",
      "execution_count": null,
      "metadata": {
        "id": "RYWD2RFq06rE"
      },
      "outputs": [],
      "source": [
        "frase = 'Cambiar el mundo, amigo Sancho, no es ni utopía ni locura, es justicia'"
      ]
    },
    {
      "cell_type": "markdown",
      "metadata": {
        "id": "BEMJz-JS06rF"
      },
      "source": [
        "# I/O\n",
        "\n",
        "Ahora veremos como abrir archivos usando Python base. Para hacerlo usaremos la sentencia **with** para definir un **contexto** del siguiente modo:\n",
        "\n",
        "    with open('corpus.txt', 'r') as inp:\n",
        "        string_contenido = inp.read()\n",
        "\n",
        "Lo que significa: con el archivo \"corpus.txt\" abierto en **modo** lectura (\"r\" de read) con el **alias** _inp_, definimos la variable contenido usando el método **.read()** para leer el archivo. Algunas aclaraciones:\n",
        "\n",
        "- El método .read() es propio del objeto de input, que **en esta ocasión** llamamos _inp_. Otro método útil es **.readlines()** que nos permite iterar por renglones.\n",
        "- La ruta al archivo puede ser **relativa** como en este caso, donde el archivo se encontraría en la misma carpeta que la notebook. También se puede dar el path completo, como podría ser \"C:/Usuarios/Matías/Documentos/corpus.txt\""
      ]
    },
    {
      "cell_type": "markdown",
      "metadata": {
        "id": "Qk2syf6F06rF"
      },
      "source": [
        "Existen varios modos de abrir un archivo, incluyendo:\n",
        "\n",
        "    - r: read, lectura\n",
        "    - w: write, escritura\n",
        "    - a: append, agregar al final del archivo\n",
        "\n",
        "Por ejemplo, para escribir en un archivo, haríamos:\n",
        "\n",
        "    with open(outpath, 'w') as f:\n",
        "        f.write(string)"
      ]
    },
    {
      "cell_type": "code",
      "execution_count": null,
      "metadata": {
        "id": "FLHIygR706rF"
      },
      "outputs": [],
      "source": [
        "with open('nuevo.txt', 'w') as f:\n",
        "    f.write('ejemplo de escritura')"
      ]
    },
    {
      "cell_type": "code",
      "execution_count": null,
      "metadata": {
        "id": "4CKKQsbA06rF",
        "outputId": "dac2a598-609a-4926-f3f6-c117a3ab5c96"
      },
      "outputs": [
        {
          "name": "stdout",
          "output_type": "stream",
          "text": [
            "ejemplo de escritura\n"
          ]
        }
      ],
      "source": [
        "with open('nuevo.txt', 'r') as f:\n",
        "    contenido = f.read()\n",
        "\n",
        "print(contenido)"
      ]
    },
    {
      "cell_type": "markdown",
      "metadata": {
        "id": "AKDk2L6a06rF"
      },
      "source": [
        "En Python se puede pedir un input del usuario de la siguiente manera:"
      ]
    },
    {
      "cell_type": "code",
      "execution_count": null,
      "metadata": {
        "id": "K7rNPuPr06rF",
        "outputId": "eee2e649-a734-4b41-cbec-19697f6b93ee"
      },
      "outputs": [
        {
          "name": "stdout",
          "output_type": "stream",
          "text": [
            "Ingrese un numero\n",
            "No anduvo, intente de nuevo\n",
            "Ingrese un numero1\n",
            "Su numero fue 1! :D\n"
          ]
        }
      ],
      "source": [
        "while True:\n",
        "    usuario_dijo = input('Ingrese un numero')\n",
        "\n",
        "    try:\n",
        "        num = int(usuario_dijo)\n",
        "        break\n",
        "    except:\n",
        "        print('No anduvo, intente de nuevo')\n",
        "\n",
        "print(f'Su numero fue {num}! :D')"
      ]
    },
    {
      "cell_type": "markdown",
      "metadata": {
        "id": "1sHKlHpk06rF"
      },
      "source": [
        "# Funciones\n",
        "\n",
        "Las funciones nos permiten estandarizar y reutilizar un proceso en múltiples ocasiones.\n",
        "\n",
        "Como patrón de diseño, las funciones tienen que ser lo más atómicas posibles, es decir, resolver un problema lo más pequeño posible y bien definido.\n",
        "\n",
        "Los nombres también son importantes, el nombre de la función tiene que reflejar lo mejor posible lo que hace.\n",
        "\n",
        "\n",
        "Las funciones se definen de la siguiente manera:\n",
        "\n",
        "    def nombre_de_funcion(argumentos):\n",
        "        \"\"\"docstring opcional\"\"\"\n",
        "        resultado = procedimiento(argumentos)\n",
        "        return resultado\n",
        "\n",
        "Las variables definidias en el contexto de una función son locales, es decir, sólo viven dentro de esa función. Por otra parte, si desde una función se llama a una variable que no está definida en la función tratará de buscarla afuera. En general, es buena práctica usar sólo variables definidas dentro de la función o argumentos.\n",
        "\n",
        "Los argumentos son variables que le pasamos a la función para que *haga algo*.\n",
        "\n",
        "Las funciones emplean dos términos reservados:\n",
        "\n",
        "- def: que indica el comienzo de la definición de la función\n",
        "\n",
        "- return: establece la variable o variables que devuelve la función\n",
        "\n",
        "En este punto vale la pena mencionar que en Python los nombres (de variables, funciones, etc.) se almacenan y ordenan en NameSpaces. En este punto, la información definida dentro de la función no es compartida con el exterior de la función (salvo algunas excepciones que no vienen al caso), por lo tanto, para compartirla, la función debe enviar desde el NameSpace local (el de la función) al NameSpace global (donde está el resto del programa). Para ello, el término return indica qué se devolverá al ambiente global. Para que efectivamente esa/s variable/s que la función devuelve se guarden una variable en el ambiente global debemos asignar el resultado a una variable. Esto va a quedar más claro con el código.\n",
        "\n",
        "Por último, vale la pena mencionar que *print* sólo nos muestra el contenido de una variable pero no envía la información desde la función hacia afuera."
      ]
    },
    {
      "cell_type": "code",
      "execution_count": null,
      "metadata": {
        "id": "B5wssmOp06rF"
      },
      "outputs": [],
      "source": [
        "def promedio(lista):\n",
        "    return sum(lista) / len(lista)"
      ]
    },
    {
      "cell_type": "code",
      "execution_count": null,
      "metadata": {
        "id": "XOiz_Lte06rG",
        "outputId": "55075bd0-147b-4f1f-fcfe-1aff62c674e5"
      },
      "outputs": [
        {
          "name": "stdout",
          "output_type": "stream",
          "text": [
            "1.5\n"
          ]
        }
      ],
      "source": [
        "resultado = promedio([0,1,2,3]) # asigno el resultado\n",
        "print(resultado)"
      ]
    },
    {
      "cell_type": "code",
      "execution_count": null,
      "metadata": {
        "id": "XU1ztvJk06rG"
      },
      "outputs": [],
      "source": [
        "def suma(a,b):\n",
        "    \"\"\"Esta función recibe dos numeros y devuelve la suma\"\"\"\n",
        "    return a+b"
      ]
    },
    {
      "cell_type": "code",
      "execution_count": null,
      "metadata": {
        "id": "mjIeVQ8506rG",
        "outputId": "af48ac53-c20d-4713-d612-d1a73bbecf1f"
      },
      "outputs": [
        {
          "name": "stdout",
          "output_type": "stream",
          "text": [
            "8\n"
          ]
        }
      ],
      "source": [
        "r = suma(3,5) # asigno el resultado\n",
        "print(r)"
      ]
    },
    {
      "cell_type": "code",
      "execution_count": null,
      "metadata": {
        "id": "-PO6m6cF06rG"
      },
      "outputs": [],
      "source": [
        "def rango(lista):\n",
        "    return max(lista) - min(lista)"
      ]
    },
    {
      "cell_type": "code",
      "execution_count": null,
      "metadata": {
        "id": "OohEOGlP06rG",
        "outputId": "fe140f8a-e9f6-4290-b302-436ba55cfbac"
      },
      "outputs": [
        {
          "data": {
            "text/plain": [
              "113"
            ]
          },
          "execution_count": 43,
          "metadata": {},
          "output_type": "execute_result"
        }
      ],
      "source": [
        "lista = [89, -24, 9, 2]\n",
        "rango(lista)"
      ]
    },
    {
      "cell_type": "markdown",
      "metadata": {
        "id": "mJ-ePNxd06rG"
      },
      "source": [
        "### Ejercicios:\n",
        "\n",
        "1- Escribir una función que reciba una lista con números y devuelva la suma de todos los pares\n",
        "\n",
        "2- Escribir una función que tome una lista con distintos elementos (de cualquier tipo) y devuelva una lista sólo con los últimos tres números que aparecen."
      ]
    },
    {
      "cell_type": "markdown",
      "metadata": {
        "id": "lyn-iq5z06rH"
      },
      "source": [
        "En las funciones existen argumentos se pueden pasar por posición o por su nombre. Algunos de los argumentos tienen un valor por default."
      ]
    },
    {
      "cell_type": "code",
      "execution_count": null,
      "metadata": {
        "id": "CqhbBiOd06rH"
      },
      "outputs": [],
      "source": [
        "def unir_lista(lista, conector=' '):\n",
        "    \"\"\"Esta funcion recibe dos argumentos, una lista y un conector\n",
        "    y devuelve la lista unida usando el conector.\"\"\"\n",
        "\n",
        "    unida = conector.join([str(e) for e in lista])\n",
        "\n",
        "    return unida"
      ]
    },
    {
      "cell_type": "code",
      "execution_count": null,
      "metadata": {
        "id": "FluQzzEI06rH",
        "outputId": "5f992de4-7146-4c98-86f1-a9fe590dac20"
      },
      "outputs": [
        {
          "data": {
            "text/plain": [
              "'unir 3 cosas'"
            ]
          },
          "execution_count": 45,
          "metadata": {},
          "output_type": "execute_result"
        }
      ],
      "source": [
        "unir_lista(['unir',3,'cosas'])"
      ]
    },
    {
      "cell_type": "code",
      "execution_count": null,
      "metadata": {
        "id": "B3sptivq06rH",
        "outputId": "84e3fefc-0b5e-40d2-a31e-10b64c1b836a"
      },
      "outputs": [
        {
          "data": {
            "text/plain": [
              "'probando,unir,lista,123'"
            ]
          },
          "execution_count": 46,
          "metadata": {},
          "output_type": "execute_result"
        }
      ],
      "source": [
        "unir_lista(['probando', 'unir', 'lista', 123], conector = ',')"
      ]
    },
    {
      "cell_type": "markdown",
      "metadata": {
        "id": "Pd8ftl3D06rH"
      },
      "source": [
        "Lo que no podemos hacer es pasar el argumento nombrado antes de el o los posicionales"
      ]
    },
    {
      "cell_type": "code",
      "execution_count": null,
      "metadata": {
        "id": "V3uVoQhr06rH",
        "outputId": "25c7883a-0179-49f9-8804-22fd85fbdf97"
      },
      "outputs": [
        {
          "ename": "SyntaxError",
          "evalue": "positional argument follows keyword argument (<ipython-input-47-81791f827422>, line 1)",
          "output_type": "error",
          "traceback": [
            "\u001b[0;36m  File \u001b[0;32m\"<ipython-input-47-81791f827422>\"\u001b[0;36m, line \u001b[0;32m1\u001b[0m\n\u001b[0;31m    unir_lista(conector = ',',['probando', 'unir', 'lista', 123])\u001b[0m\n\u001b[0m                             ^\u001b[0m\n\u001b[0;31mSyntaxError\u001b[0m\u001b[0;31m:\u001b[0m positional argument follows keyword argument\n"
          ]
        }
      ],
      "source": [
        "unir_lista(conector = ',',['probando', 'unir', 'lista', 123])"
      ]
    },
    {
      "cell_type": "markdown",
      "metadata": {
        "id": "fP8EB92k06rH"
      },
      "source": [
        "Cuando uso los argumentos por su nombre, puedo pasarlos en cualquier orden"
      ]
    },
    {
      "cell_type": "code",
      "execution_count": null,
      "metadata": {
        "id": "HXxsfqlJ06rH",
        "outputId": "522b3ab4-2bd4-4fe1-a98c-e1837cc21739"
      },
      "outputs": [
        {
          "data": {
            "text/plain": [
              "'probando,unir,lista,123'"
            ]
          },
          "execution_count": 48,
          "metadata": {},
          "output_type": "execute_result"
        }
      ],
      "source": [
        "unir_lista(conector = ',',lista = ['probando', 'unir', 'lista', 123])"
      ]
    },
    {
      "cell_type": "markdown",
      "metadata": {
        "id": "znNEfNCp06rH"
      },
      "source": [
        "Existen distintos tipos de argumentos, principalmente los llamados \"args\" y \"kwargs\", o argumentos y \"keyword arguments\" es decir argumentos nombrados."
      ]
    },
    {
      "cell_type": "markdown",
      "metadata": {
        "id": "KpqXo2jW06rH"
      },
      "source": [
        "También podemos tener un numero variable de argumentos, usando el symbolo *, por conveción al parámetro se le llama 'args'"
      ]
    },
    {
      "cell_type": "markdown",
      "metadata": {
        "id": "dlB2Qm6R06rH"
      },
      "source": [
        "Internamente, los elementos de *args se tratan como una tupla"
      ]
    },
    {
      "cell_type": "code",
      "execution_count": null,
      "metadata": {
        "id": "6vk27Yvo06rH"
      },
      "outputs": [],
      "source": [
        "def suma_todos(*args):\n",
        "    print(type(args))\n",
        "    return sum(args)"
      ]
    },
    {
      "cell_type": "code",
      "execution_count": null,
      "metadata": {
        "id": "800CEnIp06rH",
        "outputId": "0958943e-51c1-4ada-80bf-99b462f4401d"
      },
      "outputs": [
        {
          "name": "stdout",
          "output_type": "stream",
          "text": [
            "<class 'tuple'>\n"
          ]
        },
        {
          "data": {
            "text/plain": [
              "16"
            ]
          },
          "execution_count": 9,
          "metadata": {},
          "output_type": "execute_result"
        }
      ],
      "source": [
        "suma_todos(9,1,4,2)"
      ]
    },
    {
      "cell_type": "markdown",
      "metadata": {
        "id": "WZl1Epvq06rH"
      },
      "source": [
        "En cambio los elementos de **kwargs se tratan como un diccionario"
      ]
    },
    {
      "cell_type": "code",
      "execution_count": null,
      "metadata": {
        "id": "zh3XT84506rH"
      },
      "outputs": [],
      "source": [
        "def consulta(**kwargs):\n",
        "    print(type(kwargs))\n",
        "    texto = f\"Su consulta es {kwargs['fecha']} a las {kwargs['hora']}\"\n",
        "    return texto"
      ]
    },
    {
      "cell_type": "code",
      "execution_count": null,
      "metadata": {
        "id": "8s4aeSfC06rH",
        "outputId": "f1b4deef-c9ae-4206-abb5-759cb6d6859c"
      },
      "outputs": [
        {
          "name": "stdout",
          "output_type": "stream",
          "text": [
            "<class 'dict'>\n"
          ]
        },
        {
          "data": {
            "text/plain": [
              "'Su consulta es hoy a las 4PM'"
            ]
          },
          "execution_count": 11,
          "metadata": {},
          "output_type": "execute_result"
        }
      ],
      "source": [
        "consulta(fecha='hoy',hora='4PM')"
      ]
    },
    {
      "cell_type": "markdown",
      "metadata": {
        "id": "pU0Vq6KP06rH"
      },
      "source": [
        "Finalmente, podemos juntar todo lo visto en una misma función, es decir, tener argumentos sin nombre sin valor default, argumentos con valores default, args y kwargs. Esto es especialmente útil cuando necesitamos enviar args o kwargs a otras funciones usadas dentro de una función."
      ]
    },
    {
      "cell_type": "code",
      "execution_count": null,
      "metadata": {
        "id": "qo7i6E_B06rH"
      },
      "outputs": [],
      "source": [
        "valor_consulta = {\"consulta\":10, \"arreglos_caries\":20, \"flúor\":15}"
      ]
    },
    {
      "cell_type": "code",
      "execution_count": null,
      "metadata": {
        "id": "UKgduM7K06rH",
        "outputId": "d26a4b77-5d08-47bb-b7e7-4922dc9ca27d"
      },
      "outputs": [
        {
          "data": {
            "text/plain": [
              "[10, 20, 15]"
            ]
          },
          "execution_count": 13,
          "metadata": {},
          "output_type": "execute_result"
        }
      ],
      "source": [
        "costos = list(valor_consulta.values())\n",
        "costos"
      ]
    },
    {
      "cell_type": "code",
      "execution_count": null,
      "metadata": {
        "id": "aH7meqqt06rH"
      },
      "outputs": [],
      "source": [
        "def emitir_factura(nombre, dni, tipo=\"DNI\", *args, **kwargs):\n",
        "    factura = \"\"\n",
        "    factura += f\"Gracias por su visita Nombre:{nombre} \\n\"\n",
        "    factura += f\"{tipo} {dni} \\n\"\n",
        "    costo = suma_todos(*args) # hago unpacking de args\n",
        "    factura += f\"El costo es {costo} \\n\"\n",
        "    factura += consulta(**kwargs) # hago unpacking de kwargs\n",
        "    return factura"
      ]
    },
    {
      "cell_type": "code",
      "execution_count": null,
      "metadata": {
        "id": "nApRnwNS06rI",
        "outputId": "0f55bdcf-4d91-4edf-9126-69ae116dae34"
      },
      "outputs": [
        {
          "name": "stdout",
          "output_type": "stream",
          "text": [
            "<class 'tuple'>\n",
            "<class 'dict'>\n"
          ]
        }
      ],
      "source": [
        "factura = emitir_factura(\"Obi Wan\", 370310455, \"DNI\", *costos, fecha=\"hoy\", hora=\"5PM\")"
      ]
    },
    {
      "cell_type": "code",
      "execution_count": null,
      "metadata": {
        "id": "DePSi-mv06rI",
        "outputId": "277589fc-3058-46d5-ee0a-f025f347a079"
      },
      "outputs": [
        {
          "name": "stdout",
          "output_type": "stream",
          "text": [
            "Gracias por su visita Nombre:Obi Wan \n",
            "DNI 370310455 \n",
            "El costo es 45 \n",
            "Su consulta es hoy a las 5PM\n"
          ]
        }
      ],
      "source": [
        "print(factura)"
      ]
    },
    {
      "cell_type": "code",
      "execution_count": null,
      "metadata": {
        "id": "Lwb74fDN06rI"
      },
      "outputs": [],
      "source": []
    }
  ],
  "metadata": {
    "kernelspec": {
      "display_name": "Python (base)",
      "language": "python",
      "name": "base"
    },
    "language_info": {
      "codemirror_mode": {
        "name": "ipython",
        "version": 3
      },
      "file_extension": ".py",
      "mimetype": "text/x-python",
      "name": "python",
      "nbconvert_exporter": "python",
      "pygments_lexer": "ipython3",
      "version": "3.7.3"
    },
    "colab": {
      "provenance": []
    }
  },
  "nbformat": 4,
  "nbformat_minor": 0
}